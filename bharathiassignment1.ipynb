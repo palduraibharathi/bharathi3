{
 "cells": [
  {
   "cell_type": "markdown",
   "metadata": {},
   "source": [
    "#Assigment 1 Total - 18 points\n",
    "\n",
    "# Problem 1 - 8 points\n",
    "# Problem 2 - 4 points\n",
    "# Problem 3 - 6 points\n",
    "\n",
    "# Minimum to pass : 12 points\n",
    "\n",
    "# YOU MUST GET atleast 5 points  in problem 1, 3 points in Problem and 4 points in problem 3.\n",
    "\n",
    "# If you get lower than what is needed for that question - that will not be pass\n"
   ]
  },
  {
   "cell_type": "markdown",
   "metadata": {},
   "source": [
    "# Problem 1\n",
    "# Pythagorean triples are a**2+b**2 = c**2 where a, b and c are the three positive integers. These triples are represented as (a,b,c). Here, a is the perpendicular, b is the base and c is the hypotenuse of the right-angled triangle. The most known and smallest triplets are (3,4,5). Learn Pythagoras theorem for more details.\n",
    "\n",
    "# example\n",
    "# 3x3 + 4x4 = 5x5\n",
    "# 9 + 16 = 25\n",
    "\n",
    "# Total 8 points"
   ]
  },
  {
   "cell_type": "code",
   "execution_count": null,
   "metadata": {},
   "outputs": [],
   "source": [
    "#write a Python program to find if given 3 numbers are Pythagorean Program"
   ]
  },
  {
   "cell_type": "code",
   "execution_count": 1,
   "metadata": {},
   "outputs": [
    {
     "name": "stdout",
     "output_type": "stream",
     "text": [
      "type length of perpendicular (and press return) :3\n"
     ]
    }
   ],
   "source": [
    "#step 1\n",
    "num_1= input( \"type length of perpendicular (and press return) :\")"
   ]
  },
  {
   "cell_type": "code",
   "execution_count": 2,
   "metadata": {},
   "outputs": [
    {
     "name": "stdout",
     "output_type": "stream",
     "text": [
      "type length of base and press return:4\n"
     ]
    }
   ],
   "source": [
    "num_2= input( \"type length of base and press return:\")"
   ]
  },
  {
   "cell_type": "code",
   "execution_count": 3,
   "metadata": {},
   "outputs": [
    {
     "name": "stdout",
     "output_type": "stream",
     "text": [
      "type length of hypotneuse and press return: 5\n"
     ]
    }
   ],
   "source": [
    "num_3  = input (\"type length of hypotneuse and press return: \")"
   ]
  },
  {
   "cell_type": "markdown",
   "metadata": {},
   "source": [
    "# Step below has  3 points"
   ]
  },
  {
   "cell_type": "code",
   "execution_count": 5,
   "metadata": {},
   "outputs": [],
   "source": [
    "calculated_hyp_square =   ( num_1)*2 +  (num_2)*2\n",
    "\n",
    "#Executing this will display error. Type the error in google and find the fix for this errorand\n",
    "#modify the code. CODE fix must take integer and float inputs. DO NOT CHANGE OTHER CELLS. "
   ]
  },
  {
   "cell_type": "markdown",
   "metadata": {},
   "source": [
    "# Step below has  5 points"
   ]
  },
  {
   "cell_type": "code",
   "execution_count": 6,
   "metadata": {},
   "outputs": [
    {
     "name": "stdout",
     "output_type": "stream",
     "text": [
      "answer: 3344\n"
     ]
    }
   ],
   "source": [
    "#write the code to test the pythagorean condition. The calculated_hyp_square must be equal to square of num_3 if\n",
    "#num_1,num_2,num_3 are Pythagroean triple. Else it is not. Use print statement to communicate output\n",
    "#Check how to write if then else in python. \n",
    "\n",
    "# YOUR CODE MUST BE HERE\n",
    "\n",
    "print(\"answer:\",calculated_hyp_square )"
   ]
  },
  {
   "cell_type": "markdown",
   "metadata": {},
   "source": [
    "# Problem 2 - 4 points "
   ]
  },
  {
   "cell_type": "code",
   "execution_count": 7,
   "metadata": {},
   "outputs": [],
   "source": [
    "#write a program which will receive an input number and find the cube of the number and print the number\n",
    "#hint: Use step 1 to get input\n",
    "c=num_3*2\n"
   ]
  },
  {
   "cell_type": "markdown",
   "metadata": {},
   "source": [
    "# Problem 3 - 6 points"
   ]
  },
  {
   "cell_type": "code",
   "execution_count": 8,
   "metadata": {},
   "outputs": [
    {
     "name": "stdout",
     "output_type": "stream",
     "text": [
      "answer2: 55\n"
     ]
    }
   ],
   "source": [
    "# run this ONLY ONCE. After that Comment with # before \"!pip \"\n",
    "#!pip install pandas\n",
    "print(\"answer2:\",c)"
   ]
  },
  {
   "cell_type": "code",
   "execution_count": 15,
   "metadata": {},
   "outputs": [
    {
     "name": "stdout",
     "output_type": "stream",
     "text": [
      "it is not pythogram tripple\n"
     ]
    }
   ],
   "source": [
    "if calculated_hyp_square == c :\n",
    " print(\"its pythogram tripple\")\n",
    "else :\n",
    " print(\"it is not pythogram tripple\")"
   ]
  },
  {
   "cell_type": "code",
   "execution_count": 1,
   "metadata": {},
   "outputs": [],
   "source": [
    "#write code here to build a dataframe after reading a \"csv file\"\n",
    "# This requires reading about pandas. \n",
    "# You can use www.stackoverflow.com to find how it works\n"
   ]
  },
  {
   "cell_type": "code",
   "execution_count": 2,
   "metadata": {},
   "outputs": [],
   "source": [
    "import pandas as pd"
   ]
  },
  {
   "cell_type": "code",
   "execution_count": 3,
   "metadata": {},
   "outputs": [],
   "source": [
    "data=pd.read_csv(\"Book1.csv\")"
   ]
  },
  {
   "cell_type": "code",
   "execution_count": 4,
   "metadata": {},
   "outputs": [
    {
     "name": "stdout",
     "output_type": "stream",
     "text": [
      "   rollno    name  mark\n",
      "0       1     abi    67\n",
      "1       2    mala    78\n",
      "2       3  selvi     88\n",
      "3       4   puvi     90\n"
     ]
    }
   ],
   "source": [
    "print(data)"
   ]
  },
  {
   "cell_type": "code",
   "execution_count": null,
   "metadata": {},
   "outputs": [],
   "source": []
  }
 ],
 "metadata": {
  "kernelspec": {
   "display_name": "Python 3 (ipykernel)",
   "language": "python",
   "name": "python3"
  },
  "language_info": {
   "codemirror_mode": {
    "name": "ipython",
    "version": 3
   },
   "file_extension": ".py",
   "mimetype": "text/x-python",
   "name": "python",
   "nbconvert_exporter": "python",
   "pygments_lexer": "ipython3",
   "version": "3.10.9"
  }
 },
 "nbformat": 4,
 "nbformat_minor": 4
}
